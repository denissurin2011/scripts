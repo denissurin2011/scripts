{
 "cells": [
  {
   "cell_type": "code",
   "execution_count": 4,
   "metadata": {},
   "outputs": [],
   "source": [
    "import cv2\n",
    "import numpy\n",
    "import os"
   ]
  },
  {
   "cell_type": "code",
   "execution_count": 5,
   "metadata": {},
   "outputs": [],
   "source": [
    "def find_copies(path1, path2):\n",
    "    files1 = os.listdir(path1)\n",
    "    files2 = os.listdir(path2)\n",
    "    img1 = [cv2.imread(f) for f in files1]\n",
    "    img2 = [cv2.imread(f) for f in files2]\n",
    "    for im1 in img1:\n",
    "        for f2 in files2:\n",
    "            im2 = cv2.imread(f2)\n",
    "            if im1 == im2:\n",
    "                print(f1, f2)"
   ]
  },
  {
   "cell_type": "code",
   "execution_count": 7,
   "metadata": {},
   "outputs": [],
   "source": [
    "def find_copies(pathes, path_to_res):\n",
    "    files = []\n",
    "    for path in pathes:\n",
    "        files.expand(os.listdir(path))\n",
    "    imges = [cv2.imread(f) for f in files]\n",
    "    copies = []\n",
    "    for ind1, f1 in enumerate(files):\n",
    "        img1 = cv2.imread(f1)\n",
    "        for ind2, f2 in enumerate(files):\n",
    "            img2 = cv2.imread(f2)\n",
    "            if ind1 == ind2:\n",
    "                continue\n",
    "            if img1.shape == img2.shape and img1 == img2:\n",
    "                copies.append([f1, f2])\n",
    "    files = set(files)\n",
    "    for copy in copies:\n",
    "        files.discard(copy[1])\n",
    "    print('copies found')\n",
    "    os.mkdir(path_to_res)\n",
    "    for ind, f in enumerate(list(files)):\n",
    "        img = cv2.imread(f)\n",
    "        new_path = path_to_res + '/' + str(ind)\n",
    "        cv2.imsave(new_path)\n",
    "    print('saved completed')"
   ]
  },
  {
   "cell_type": "code",
   "execution_count": null,
   "metadata": {},
   "outputs": [],
   "source": []
  }
 ],
 "metadata": {
  "kernelspec": {
   "display_name": "Python 3",
   "language": "python",
   "name": "python3"
  },
  "language_info": {
   "codemirror_mode": {
    "name": "ipython",
    "version": 3
   },
   "file_extension": ".py",
   "mimetype": "text/x-python",
   "name": "python",
   "nbconvert_exporter": "python",
   "pygments_lexer": "ipython3",
   "version": "3.7.4"
  }
 },
 "nbformat": 4,
 "nbformat_minor": 2
}
